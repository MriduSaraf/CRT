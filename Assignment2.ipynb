{
 "cells": [
  {
   "cell_type": "markdown",
   "metadata": {},
   "source": [
    "Write a function pascals_triangle(rows) that prints the first rows of\n",
    " Pascal’s Triangle using nested for loops.\n",
    " pascals_triangle(5)\n",
    " Output:\n",
    "     1\n",
    "    1 1\n",
    "   1 2 1\n",
    "  1 3 3 1\n",
    " 1 4 6 4 1"
   ]
  },
  {
   "cell_type": "code",
   "execution_count": 1,
   "metadata": {},
   "outputs": [
    {
     "name": "stdout",
     "output_type": "stream",
     "text": [
      "     1 \n",
      "    1 1 \n",
      "   1 2 1 \n",
      "  1 3 3 1 \n",
      " 1 4 6 4 1 \n"
     ]
    }
   ],
   "source": [
    "from math import factorial\n",
    "\n",
    "def pascal_triangle(n):\n",
    "    for i in range(n):\n",
    "        print(\" \"*(n-i),end=\"\") \n",
    "        for j in range(i + 1):\n",
    "            print(factorial(i) // (factorial(j) * factorial(i - j)), end=\" \")\n",
    "        print()\n",
    "\n",
    "pascal_triangle(5)"
   ]
  },
  {
   "cell_type": "markdown",
   "metadata": {},
   "source": [
    "Explain how the continue statement works in a loop. What are some scenarios where using continue is more beneficial than restructuring the loop?\n",
    "Coding Challenge: Write a Python program that iterates through a list of numbers and prints only those numbers that are divisible by 3, using the continue statement."
   ]
  },
  {
   "cell_type": "code",
   "execution_count": 2,
   "metadata": {},
   "outputs": [
    {
     "name": "stdout",
     "output_type": "stream",
     "text": [
      "3\n",
      "6\n",
      "9\n",
      "12\n",
      "15\n",
      "21\n"
     ]
    }
   ],
   "source": [
    "ls = [1,3,6,4,8,9,12,15,21,22]\n",
    "for i in ls:\n",
    "    if i % 3 != 0 :\n",
    "        continue\n",
    "    print(i)"
   ]
  },
  {
   "cell_type": "markdown",
   "metadata": {},
   "source": [
    "Use list comprehension to generate all Pythagorean triplets (a, b, c) where a² + b² = c² and a, b, c ≤ 50"
   ]
  },
  {
   "cell_type": "code",
   "execution_count": 3,
   "metadata": {},
   "outputs": [
    {
     "name": "stdout",
     "output_type": "stream",
     "text": [
      "[(3, 4, 5), (5, 12, 13), (6, 8, 10), (7, 24, 25), (8, 15, 17), (9, 12, 15), (9, 40, 41), (10, 24, 26), (12, 16, 20), (12, 35, 37), (14, 48, 50), (15, 20, 25), (15, 36, 39), (16, 30, 34), (18, 24, 30), (20, 21, 29), (21, 28, 35), (24, 32, 40), (27, 36, 45), (30, 40, 50)]\n"
     ]
    }
   ],
   "source": [
    "ls = [(a, b, c) for a in range(1, 51) for b in range(a, 51) for c in range(b, 51) if a**2 + b**2 == c**2]\n",
    "print(ls)"
   ]
  },
  {
   "cell_type": "markdown",
   "metadata": {},
   "source": [
    "Write a function max_consecutive_sum(nums, k) that finds the maximum sum of k consecutive elements in a list."
   ]
  },
  {
   "cell_type": "code",
   "execution_count": 4,
   "metadata": {},
   "outputs": [
    {
     "name": "stdout",
     "output_type": "stream",
     "text": [
      "18\n"
     ]
    }
   ],
   "source": [
    "def max_consecutive_sum(nums,k):\n",
    "    maxSum = 0\n",
    "    i = 0\n",
    "    j = k-1\n",
    "    \n",
    "    while(j<len(nums)):\n",
    "        sum = 0\n",
    "        for x in range (i, j+1):\n",
    "            sum += nums[x]\n",
    "        i+=1   \n",
    "        j+=1\n",
    "        maxSum = max(maxSum,sum)\n",
    "    \n",
    "    return maxSum\n",
    "\n",
    "nums = [1,2,3,4,5,6,7]\n",
    "print(max_consecutive_sum(nums,3))"
   ]
  },
  {
   "cell_type": "markdown",
   "metadata": {},
   "source": [
    "Write a function that takes a list as an argument and modifies it by appending a new item. Demonstrate how changes to the list inside the function affect the list outside the function."
   ]
  },
  {
   "cell_type": "code",
   "execution_count": 5,
   "metadata": {},
   "outputs": [
    {
     "name": "stdout",
     "output_type": "stream",
     "text": [
      "Before function call: [1, 2, 3]\n",
      "After function call: [1, 2, 3, 4]\n"
     ]
    }
   ],
   "source": [
    "def modify_list(lst, item):\n",
    "    lst.append(item)\n",
    "\n",
    "my_list = [1, 2, 3]\n",
    "print(\"Before function call:\", my_list)\n",
    "\n",
    "modify_list(my_list, 4)  \n",
    "\n",
    "print(\"After function call:\", my_list)"
   ]
  },
  {
   "cell_type": "markdown",
   "metadata": {},
   "source": [
    "Take a number as input and print the Fibonacci sequence up to that many terms using User-defined functions."
   ]
  },
  {
   "cell_type": "code",
   "execution_count": 8,
   "metadata": {},
   "outputs": [
    {
     "name": "stdout",
     "output_type": "stream",
     "text": [
      "0 1 1 "
     ]
    }
   ],
   "source": [
    "def fibonacci(n):\n",
    "    a = 0\n",
    "    b = 1\n",
    "    c = 0\n",
    "    print(a, b, end= \" \")\n",
    "    for _ in range (n-2):\n",
    "        c = a + b\n",
    "        print(c, end=\" \")\n",
    "        a = b\n",
    "        b = c\n",
    "\n",
    "n = int(input(\"Enter a number: \"))\n",
    "fibonacci(n)"
   ]
  }
 ],
 "metadata": {
  "kernelspec": {
   "display_name": "Python 3",
   "language": "python",
   "name": "python3"
  },
  "language_info": {
   "codemirror_mode": {
    "name": "ipython",
    "version": 3
   },
   "file_extension": ".py",
   "mimetype": "text/x-python",
   "name": "python",
   "nbconvert_exporter": "python",
   "pygments_lexer": "ipython3",
   "version": "3.11.9"
  }
 },
 "nbformat": 4,
 "nbformat_minor": 2
}
