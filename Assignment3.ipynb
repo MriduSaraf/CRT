{
 "cells": [
  {
   "cell_type": "markdown",
   "metadata": {},
   "source": [
    "Write a lambda function to merge two lists into a dictionary where\n",
    "one list represents keys and the other represents values."
   ]
  },
  {
   "cell_type": "code",
   "execution_count": 2,
   "metadata": {},
   "outputs": [
    {
     "name": "stdout",
     "output_type": "stream",
     "text": [
      "{'name': 'moulik', 'age': 21, 'city': 'Jaipur'}\n"
     ]
    }
   ],
   "source": [
    "key = ['name','age','city']\n",
    "value = ['moulik',21,'Jaipur']  \n",
    "merged = lambda key,value: {key[i]:value[i] for i in range(len(key))}\n",
    "print(merged(key,value))\n",
    "\n"
   ]
  },
  {
   "cell_type": "markdown",
   "metadata": {},
   "source": [
    "Create a class Product with instance variables name and price. Also,\n",
    "add a class variable discount_rate and a method to calculate the\n",
    "discounted price.\n"
   ]
  },
  {
   "cell_type": "code",
   "execution_count": null,
   "metadata": {},
   "outputs": [],
   "source": [
    "class product:\n",
    "    discount_rate = 0.10\n",
    "    def __init__(self,name,price):\n",
    "        self.name = name\n",
    "        self.price = price\n",
    "    def discount(self):\n",
    "        return self.price * self.discount_rate #method to calculate discount rate.\n",
    "    \n",
    "obj = product('car',700000)\n",
    "obj.discount()\n"
   ]
  },
  {
   "cell_type": "markdown",
   "metadata": {},
   "source": [
    "Create a base class Shape with a method area(). Derive two\n",
    "subclasses Circle and Rectangle, each implementing their own area()\n",
    "method. (INHERITANCE)"
   ]
  },
  {
   "cell_type": "code",
   "execution_count": null,
   "metadata": {},
   "outputs": [],
   "source": [
    "class Shape:\n",
    "    def area(self):\n",
    "        pass\n",
    "    \n",
    "class Circle(Shape):\n",
    "    def area(self,r):\n",
    "        return 3.14*r*r\n",
    "\n",
    "class rectngle(Shape):\n",
    "    def area(self,l,b):\n",
    "        return l*b\n",
    "\n",
    "obj = Circle()\n",
    "print(obj.area(5)) \n",
    "obj1 = rectngle()   \n",
    "print(obj1.area(5,6))\n"
   ]
  },
  {
   "cell_type": "markdown",
   "metadata": {},
   "source": [
    "Create two base classes Person and Employee, and derive a class \n",
    "Manager from both. (MULTIPLE INHERITANCE)  "
   ]
  },
  {
   "cell_type": "code",
   "execution_count": 5,
   "metadata": {},
   "outputs": [
    {
     "name": "stdout",
     "output_type": "stream",
     "text": [
      "Manager: Amit, ID: 123, Dept: It\n"
     ]
    }
   ],
   "source": [
    "class Person:\n",
    "    def __init__(self, name):\n",
    "        self.name = name\n",
    "\n",
    "class Employee:\n",
    "    def __init__(self, emp_id):\n",
    "        self.emp_id = emp_id\n",
    "\n",
    "class Manager(Person, Employee):\n",
    "    def __init__(self, name, emp_id, department):\n",
    "        Person.__init__(self, name)\n",
    "        Employee.__init__(self, emp_id)\n",
    "        self.department = department\n",
    "\n",
    "    def display_info(self):\n",
    "        return f\"Manager: {self.name}, ID: {self.emp_id}, Dept: {self.department}\"\n",
    "\n",
    "mgr = Manager(\"Amit\", \"123\", \"It\")\n",
    "print(mgr.display_info())"
   ]
  },
  {
   "cell_type": "markdown",
   "metadata": {},
   "source": [
    "Implement a function play_sound() that accepts different animal objects (Dog, Cat, Cow) and calls their make_sound() method dynamically. (POLYMORPHISM)"
   ]
  },
  {
   "cell_type": "code",
   "execution_count": 4,
   "metadata": {},
   "outputs": [
    {
     "name": "stdout",
     "output_type": "stream",
     "text": [
      "Bhau!\n",
      "Meow!\n",
      "Moo!\n"
     ]
    }
   ],
   "source": [
    "class Animal:\n",
    "    def make_sound(self):\n",
    "        pass \n",
    "\n",
    "class Dog(Animal):\n",
    "    def make_sound(self):\n",
    "        return \"Bhau!\"\n",
    "\n",
    "class Cat(Animal):\n",
    "    def make_sound(self):\n",
    "        return \"Meow!\"\n",
    "\n",
    "class Cow(Animal):\n",
    "    def make_sound(self):\n",
    "        return \"Moo!\"\n",
    "\n",
    "def play_sound(animal):\n",
    "    print(animal.make_sound())\n",
    "\n",
    "dog = Dog()\n",
    "cat = Cat()\n",
    "cow = Cow()\n",
    "\n",
    "play_sound(dog)  \n",
    "play_sound(cat) \n",
    "play_sound(cow)  "
   ]
  },
  {
   "cell_type": "markdown",
   "metadata": {},
   "source": [
    "Design a Car Rental System using Object-Oriented Programming (OOP) in Python. The system should include a Vehicle class and derived classes Car and Bike. Implement constructors and use inheritance to manage common and specific attributes."
   ]
  },
  {
   "cell_type": "code",
   "execution_count": 3,
   "metadata": {},
   "outputs": [
    {
     "name": "stdout",
     "output_type": "stream",
     "text": [
      "Rented Toyota Innova.\n",
      "Vehicle returned.\n"
     ]
    }
   ],
   "source": [
    "class Vehicle:\n",
    "    def __init__(self, vehicle_id, brand, model):\n",
    "        self.vehicle_id = vehicle_id\n",
    "        self.brand = brand\n",
    "        self.model = model\n",
    "        self.is_rented = False\n",
    "\n",
    "    def rent(self):\n",
    "        if not self.is_rented:\n",
    "            self.is_rented = True\n",
    "            return True\n",
    "        return False\n",
    "\n",
    "    def return_vehicle(self):\n",
    "        self.is_rented = False\n",
    "\n",
    "class Car(Vehicle):\n",
    "    def __init__(self, vehicle_id, brand, model, doors):\n",
    "        super().__init__(vehicle_id, brand, model)\n",
    "        self.doors = doors\n",
    "\n",
    "class Bike(Vehicle):\n",
    "    def __init__(self, vehicle_id, brand, model, bike_type):\n",
    "        super().__init__(vehicle_id, brand, model)\n",
    "        self.bike_type = bike_type\n",
    "\n",
    "class RentalSystem:\n",
    "    def __init__(self):\n",
    "        self.vehicles = {}\n",
    "\n",
    "    def add_vehicle(self, vehicle):\n",
    "        self.vehicles[vehicle.vehicle_id] = vehicle\n",
    "\n",
    "    def rent_vehicle(self, vehicle_id):\n",
    "        if vehicle_id in self.vehicles and self.vehicles[vehicle_id].rent():\n",
    "            print(f\"Rented {self.vehicles[vehicle_id].brand} {self.vehicles[vehicle_id].model}.\")\n",
    "        else:\n",
    "            print(\"Not available.\")\n",
    "\n",
    "    def return_vehicle(self, vehicle_id):\n",
    "        if vehicle_id in self.vehicles:\n",
    "            self.vehicles[vehicle_id].return_vehicle()\n",
    "            print(\"Vehicle returned.\")\n",
    "\n",
    "rental = RentalSystem()\n",
    "rental.add_vehicle(Car(1, \"Toyota\", \"Innova\", 4))\n",
    "rental.add_vehicle(Bike(2, \"Yamaha\", \"MT-07\", \"Sport\"))\n",
    "rental.rent_vehicle(1)\n",
    "rental.return_vehicle(1)"
   ]
  }
 ],
 "metadata": {
  "kernelspec": {
   "display_name": "Python 3",
   "language": "python",
   "name": "python3"
  },
  "language_info": {
   "codemirror_mode": {
    "name": "ipython",
    "version": 3
   },
   "file_extension": ".py",
   "mimetype": "text/x-python",
   "name": "python",
   "nbconvert_exporter": "python",
   "pygments_lexer": "ipython3",
   "version": "3.11.9"
  }
 },
 "nbformat": 4,
 "nbformat_minor": 2
}
